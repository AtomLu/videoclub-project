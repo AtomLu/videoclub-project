{
 "cells": [
  {
   "cell_type": "code",
   "execution_count": 66,
   "id": "bde6b7d8",
   "metadata": {},
   "outputs": [
    {
     "name": "stdout",
     "output_type": "stream",
     "text": [
      "Requirement already satisfied: webdriver-manager in /Users/lcorrea/opt/anaconda3/lib/python3.9/site-packages (3.8.3)\n",
      "Requirement already satisfied: requests in /Users/lcorrea/opt/anaconda3/lib/python3.9/site-packages (from webdriver-manager) (2.27.1)\n",
      "Requirement already satisfied: python-dotenv in /Users/lcorrea/opt/anaconda3/lib/python3.9/site-packages (from webdriver-manager) (0.20.0)\n",
      "Requirement already satisfied: tqdm in /Users/lcorrea/opt/anaconda3/lib/python3.9/site-packages (from webdriver-manager) (4.64.0)\n",
      "Requirement already satisfied: certifi>=2017.4.17 in /Users/lcorrea/opt/anaconda3/lib/python3.9/site-packages (from requests->webdriver-manager) (2021.10.8)\n",
      "Requirement already satisfied: urllib3<1.27,>=1.21.1 in /Users/lcorrea/opt/anaconda3/lib/python3.9/site-packages (from requests->webdriver-manager) (1.26.9)\n",
      "Requirement already satisfied: charset-normalizer~=2.0.0 in /Users/lcorrea/opt/anaconda3/lib/python3.9/site-packages (from requests->webdriver-manager) (2.0.4)\n",
      "Requirement already satisfied: idna<4,>=2.5 in /Users/lcorrea/opt/anaconda3/lib/python3.9/site-packages (from requests->webdriver-manager) (3.3)\n",
      "Note: you may need to restart the kernel to use updated packages.\n"
     ]
    }
   ],
   "source": [
    "%pip install webdriver-manager\n",
    "from selenium import webdriver"
   ]
  },
  {
   "cell_type": "code",
   "execution_count": 67,
   "id": "68c87f01",
   "metadata": {},
   "outputs": [
    {
     "name": "stdout",
     "output_type": "stream",
     "text": [
      "Requirement already satisfied: selenium in /Users/lcorrea/opt/anaconda3/lib/python3.9/site-packages (3.141.0)\n",
      "Requirement already satisfied: urllib3 in /Users/lcorrea/opt/anaconda3/lib/python3.9/site-packages (from selenium) (1.26.9)\n",
      "Note: you may need to restart the kernel to use updated packages.\n"
     ]
    }
   ],
   "source": [
    "%pip install selenium"
   ]
  },
  {
   "cell_type": "code",
   "execution_count": 68,
   "id": "5317ea14",
   "metadata": {},
   "outputs": [
    {
     "name": "stderr",
     "output_type": "stream",
     "text": [
      "[WDM] - Downloading: 100%|█████████████████| 8.15M/8.15M [00:00<00:00, 73.6MB/s]\n"
     ]
    }
   ],
   "source": [
    "from webdriver_manager.chrome import ChromeDriverManager\n",
    "\n",
    "\n",
    "\n",
    "PATH=ChromeDriverManager().install()      \n",
    "\n",
    "driver=webdriver.Chrome(PATH)    \n",
    "\n",
    "driver.get('https://www.google.es')"
   ]
  },
  {
   "cell_type": "code",
   "execution_count": 69,
   "id": "f3040134",
   "metadata": {},
   "outputs": [],
   "source": [
    "url = 'https://www.iii.org/fact-statistic/facts-statistics-global-catastrophes'"
   ]
  },
  {
   "cell_type": "code",
   "execution_count": 43,
   "id": "75d90c49",
   "metadata": {},
   "outputs": [
    {
     "data": {
      "text/plain": [
       "[['Rank Date Country/region Event Deaths',\n",
       "  '1 Nov. 12, 1970 Bangladesh Cyclone Bhola  300,000',\n",
       "  '2 Jul. 27, 1976 China Tangshan earthquake 242,769',\n",
       "  '3 Jul. 30, 1975 Taiwan, China Super Typhoon Nina 230,000',\n",
       "  '4 Dec. 26, 2004 Indian Ocean Basin Indian Ocean earthquake and tsunami 227,898',\n",
       "  '5 Jan. 12, 2010 Haiti Port-au-Prince earthquake 160,000',\n",
       "  '6 Apr. 1991 Bangladesh Cyclone Gorky 139,000',\n",
       "  '7 May 2008 Myanmar Cyclone Nargis 138,366',\n",
       "  '8 Aug. 1971 Vietnam Vietnam floods 100,000',\n",
       "  '9 Oct. 8, 2005 Pakistan Kashmir earthquake 88,000',\n",
       "  '10 May 12, 2008 China Sichuan earthquake 87,652']]"
      ]
     },
     "metadata": {},
     "output_type": "display_data"
    }
   ],
   "source": [
    "driver = webdriver.Chrome(PATH)\n",
    "driver.get(url) \n",
    "\n",
    "tabla = display([element.text.split('\\n') for element in driver.find_elements_by_xpath('//*[@id=\"node-221605\"]/div/div[2]/div/div/div[1]/table/tbody/tr/td/table')])\n",
    "\n"
   ]
  },
  {
   "cell_type": "code",
   "execution_count": 55,
   "id": "9e0ae50c",
   "metadata": {},
   "outputs": [
    {
     "data": {
      "text/plain": [
       "['Rank', 'Date', 'Country/region', 'Event', 'Deaths']"
      ]
     },
     "execution_count": 55,
     "metadata": {},
     "output_type": "execute_result"
    }
   ],
   "source": [
    "tabla=driver.find_element_by_xpath('//*[@id=\"node-221605\"]/div/div[2]/div/div/div[1]/table/tbody/tr/td/table')\n",
    "\n",
    "\n",
    "filas=tabla.find_elements_by_tag_name('tr')\n",
    "\n",
    "cabeceras=[e.text for e in filas[0].find_elements_by_tag_name('th')]\n",
    "\n",
    "cabeceras"
   ]
  },
  {
   "cell_type": "code",
   "execution_count": 58,
   "id": "b0365001",
   "metadata": {},
   "outputs": [],
   "source": [
    "datos=[[e.text for e in f.find_elements_by_tag_name('td')] for f in filas[1:]]"
   ]
  },
  {
   "cell_type": "code",
   "execution_count": 74,
   "id": "2d2a525e",
   "metadata": {},
   "outputs": [],
   "source": [
    "cabeceras_2 = ['Rank', 'Date', 'Area', 'Event', 'Deaths']"
   ]
  },
  {
   "cell_type": "code",
   "execution_count": 75,
   "id": "8854e20e",
   "metadata": {},
   "outputs": [],
   "source": [
    "import pandas as pd\n",
    "\n",
    "desastres_naturales = pd.DataFrame(datos, columns=cabeceras_2)"
   ]
  },
  {
   "cell_type": "code",
   "execution_count": 76,
   "id": "526ac1c9",
   "metadata": {},
   "outputs": [
    {
     "data": {
      "text/html": [
       "<div>\n",
       "<style scoped>\n",
       "    .dataframe tbody tr th:only-of-type {\n",
       "        vertical-align: middle;\n",
       "    }\n",
       "\n",
       "    .dataframe tbody tr th {\n",
       "        vertical-align: top;\n",
       "    }\n",
       "\n",
       "    .dataframe thead th {\n",
       "        text-align: right;\n",
       "    }\n",
       "</style>\n",
       "<table border=\"1\" class=\"dataframe\">\n",
       "  <thead>\n",
       "    <tr style=\"text-align: right;\">\n",
       "      <th></th>\n",
       "      <th>Rank</th>\n",
       "      <th>Date</th>\n",
       "      <th>Area</th>\n",
       "      <th>Event</th>\n",
       "      <th>Deaths</th>\n",
       "    </tr>\n",
       "  </thead>\n",
       "  <tbody>\n",
       "    <tr>\n",
       "      <th>0</th>\n",
       "      <td>1</td>\n",
       "      <td>Nov. 12, 1970</td>\n",
       "      <td>Bangladesh</td>\n",
       "      <td>Cyclone Bhola</td>\n",
       "      <td>300,000</td>\n",
       "    </tr>\n",
       "    <tr>\n",
       "      <th>1</th>\n",
       "      <td>2</td>\n",
       "      <td>Jul. 27, 1976</td>\n",
       "      <td>China</td>\n",
       "      <td>Tangshan earthquake</td>\n",
       "      <td>242,769</td>\n",
       "    </tr>\n",
       "    <tr>\n",
       "      <th>2</th>\n",
       "      <td>3</td>\n",
       "      <td>Jul. 30, 1975</td>\n",
       "      <td>Taiwan, China</td>\n",
       "      <td>Super Typhoon Nina</td>\n",
       "      <td>230,000</td>\n",
       "    </tr>\n",
       "    <tr>\n",
       "      <th>3</th>\n",
       "      <td>4</td>\n",
       "      <td>Dec. 26, 2004</td>\n",
       "      <td>Indian Ocean Basin</td>\n",
       "      <td>Indian Ocean earthquake and tsunami</td>\n",
       "      <td>227,898</td>\n",
       "    </tr>\n",
       "    <tr>\n",
       "      <th>4</th>\n",
       "      <td>5</td>\n",
       "      <td>Jan. 12, 2010</td>\n",
       "      <td>Haiti</td>\n",
       "      <td>Port-au-Prince earthquake</td>\n",
       "      <td>160,000</td>\n",
       "    </tr>\n",
       "    <tr>\n",
       "      <th>5</th>\n",
       "      <td>6</td>\n",
       "      <td>Apr. 1991</td>\n",
       "      <td>Bangladesh</td>\n",
       "      <td>Cyclone Gorky</td>\n",
       "      <td>139,000</td>\n",
       "    </tr>\n",
       "    <tr>\n",
       "      <th>6</th>\n",
       "      <td>7</td>\n",
       "      <td>May 2008</td>\n",
       "      <td>Myanmar</td>\n",
       "      <td>Cyclone Nargis</td>\n",
       "      <td>138,366</td>\n",
       "    </tr>\n",
       "    <tr>\n",
       "      <th>7</th>\n",
       "      <td>8</td>\n",
       "      <td>Aug. 1971</td>\n",
       "      <td>Vietnam</td>\n",
       "      <td>Vietnam floods</td>\n",
       "      <td>100,000</td>\n",
       "    </tr>\n",
       "    <tr>\n",
       "      <th>8</th>\n",
       "      <td>9</td>\n",
       "      <td>Oct. 8, 2005</td>\n",
       "      <td>Pakistan</td>\n",
       "      <td>Kashmir earthquake</td>\n",
       "      <td>88,000</td>\n",
       "    </tr>\n",
       "    <tr>\n",
       "      <th>9</th>\n",
       "      <td>10</td>\n",
       "      <td>May 12, 2008</td>\n",
       "      <td>China</td>\n",
       "      <td>Sichuan earthquake</td>\n",
       "      <td>87,652</td>\n",
       "    </tr>\n",
       "  </tbody>\n",
       "</table>\n",
       "</div>"
      ],
      "text/plain": [
       "  Rank           Date                Area  \\\n",
       "0    1  Nov. 12, 1970          Bangladesh   \n",
       "1    2  Jul. 27, 1976               China   \n",
       "2    3  Jul. 30, 1975       Taiwan, China   \n",
       "3    4  Dec. 26, 2004  Indian Ocean Basin   \n",
       "4    5  Jan. 12, 2010               Haiti   \n",
       "5    6      Apr. 1991          Bangladesh   \n",
       "6    7       May 2008             Myanmar   \n",
       "7    8      Aug. 1971             Vietnam   \n",
       "8    9   Oct. 8, 2005            Pakistan   \n",
       "9   10   May 12, 2008               China   \n",
       "\n",
       "                                 Event   Deaths  \n",
       "0                       Cyclone Bhola   300,000  \n",
       "1                  Tangshan earthquake  242,769  \n",
       "2                   Super Typhoon Nina  230,000  \n",
       "3  Indian Ocean earthquake and tsunami  227,898  \n",
       "4            Port-au-Prince earthquake  160,000  \n",
       "5                        Cyclone Gorky  139,000  \n",
       "6                       Cyclone Nargis  138,366  \n",
       "7                       Vietnam floods  100,000  \n",
       "8                   Kashmir earthquake   88,000  \n",
       "9                   Sichuan earthquake   87,652  "
      ]
     },
     "execution_count": 76,
     "metadata": {},
     "output_type": "execute_result"
    }
   ],
   "source": [
    "desastres_naturales"
   ]
  },
  {
   "cell_type": "code",
   "execution_count": 79,
   "id": "71cc07eb",
   "metadata": {},
   "outputs": [],
   "source": [
    "desastres_naturales.to_csv('desastres_naturale.csv', index = False)"
   ]
  },
  {
   "cell_type": "code",
   "execution_count": null,
   "id": "5ccf6926",
   "metadata": {},
   "outputs": [],
   "source": []
  },
  {
   "cell_type": "code",
   "execution_count": null,
   "id": "220d21e8",
   "metadata": {},
   "outputs": [],
   "source": []
  }
 ],
 "metadata": {
  "kernelspec": {
   "display_name": "Python 3 (ipykernel)",
   "language": "python",
   "name": "python3"
  },
  "language_info": {
   "codemirror_mode": {
    "name": "ipython",
    "version": 3
   },
   "file_extension": ".py",
   "mimetype": "text/x-python",
   "name": "python",
   "nbconvert_exporter": "python",
   "pygments_lexer": "ipython3",
   "version": "3.9.12"
  }
 },
 "nbformat": 4,
 "nbformat_minor": 5
}
